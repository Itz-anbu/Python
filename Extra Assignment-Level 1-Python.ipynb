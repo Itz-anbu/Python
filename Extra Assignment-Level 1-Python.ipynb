{
 "cells": [
  {
   "cell_type": "code",
   "execution_count": 3,
   "id": "166d2345-df4d-4035-b56b-7f3aa90969e7",
   "metadata": {},
   "outputs": [
    {
     "name": "stdout",
     "output_type": "stream",
     "text": [
      "HOPE AI\n"
     ]
    }
   ],
   "source": [
    "print('HOPE AI')"
   ]
  },
  {
   "cell_type": "code",
   "execution_count": 6,
   "id": "05cc3499-5d15-4c8e-bde0-5258bfdf4c33",
   "metadata": {
    "scrolled": true
   },
   "outputs": [
    {
     "name": "stdin",
     "output_type": "stream",
     "text": [
      "Enter your Institute Name? : Hope AI\n"
     ]
    },
    {
     "name": "stdout",
     "output_type": "stream",
     "text": [
      "Enter your institute: Hope AI\n"
     ]
    }
   ],
   "source": [
    "Institute=input('Enter your Institute Name? :')\n",
    "print('Enter your institute:', Institute)\n"
   ]
  },
  {
   "cell_type": "code",
   "execution_count": null,
   "id": "6cf27fed-0324-4cd7-af72-1d80905be18b",
   "metadata": {},
   "outputs": [],
   "source": [
    "name=input('Enter your Name:')\n",
    "age=input('Enter your Age:')\n",
    "school=input('Enter your School Name:')\n",
    "Deg=input('Enter your Degree:')\n"
   ]
  },
  {
   "cell_type": "code",
   "execution_count": 9,
   "id": "89eb55df-a509-4792-84da-d60e027923da",
   "metadata": {},
   "outputs": [
    {
     "name": "stdout",
     "output_type": "stream",
     "text": [
      "Enter your Name: Anbu\n",
      "Enter your Age: 15\n",
      "Enter your School Name: CTK\n",
      "Enter your Degree: Mtech\n"
     ]
    }
   ],
   "source": [
    "print('Enter your Name:',name)\n",
    "print('Enter your Age:',age)\n",
    "print('Enter your School Name:',school)\n",
    "print('Enter your Degree:',Deg)"
   ]
  },
  {
   "cell_type": "code",
   "execution_count": 11,
   "id": "7b5c81e8-70da-4fe6-9c20-8feec550532e",
   "metadata": {},
   "outputs": [
    {
     "name": "stdout",
     "output_type": "stream",
     "text": [
      "a=43\n",
      "b=34\n",
      "add= 77\n"
     ]
    }
   ],
   "source": [
    "a=43\n",
    "b=34\n",
    "add=a+b\n",
    "print('a=43')\n",
    "print('b=34')\n",
    "print('add=', add)"
   ]
  },
  {
   "cell_type": "code",
   "execution_count": 12,
   "id": "114880f9-0bd8-4ffd-8bc7-e81c540787c4",
   "metadata": {},
   "outputs": [
    {
     "name": "stdout",
     "output_type": "stream",
     "text": [
      "a=43\n",
      "b=34\n",
      "Sub= 9\n"
     ]
    }
   ],
   "source": [
    "a=43\n",
    "b=34\n",
    "Sub=a-b\n",
    "print('a=43')\n",
    "print('b=34')\n",
    "print('Sub=', Sub)"
   ]
  },
  {
   "cell_type": "code",
   "execution_count": 13,
   "id": "083a7d04-203b-41a8-b7f1-977e34a9da2c",
   "metadata": {},
   "outputs": [
    {
     "name": "stdout",
     "output_type": "stream",
     "text": [
      "a=63\n",
      "b=97\n",
      "Mul= 6111\n"
     ]
    }
   ],
   "source": [
    "a=63\n",
    "b=97\n",
    "Mul=a*b\n",
    "print('a=63')\n",
    "print('b=97')\n",
    "print('Mul=', Mul)"
   ]
  },
  {
   "cell_type": "code",
   "execution_count": 16,
   "id": "d83cf80f-7cc7-458f-9ef9-4bdd145b2542",
   "metadata": {},
   "outputs": [
    {
     "name": "stdout",
     "output_type": "stream",
     "text": [
      "a=76\n",
      "b=31\n",
      "div= 2.4516129032258065\n"
     ]
    }
   ],
   "source": [
    "a=76\n",
    "b=31\n",
    "Div=a/b\n",
    "print('a=76')\n",
    "print('b=31')\n",
    "print('div=', Div)"
   ]
  },
  {
   "cell_type": "code",
   "execution_count": 17,
   "id": "321a1e9a-1a2c-40ad-b32f-8701e295d408",
   "metadata": {},
   "outputs": [
    {
     "name": "stdout",
     "output_type": "stream",
     "text": [
      "a=76\n",
      "b=31\n",
      "div= 2\n"
     ]
    }
   ],
   "source": [
    "a=76\n",
    "b=31\n",
    "Div=int(a/b)\n",
    "print('a=76')\n",
    "print('b=31')\n",
    "print('div=', Div)"
   ]
  },
  {
   "cell_type": "code",
   "execution_count": 18,
   "id": "53a9d07f-6484-47b8-b9a2-b0fddc7ceb3d",
   "metadata": {},
   "outputs": [
    {
     "name": "stdout",
     "output_type": "stream",
     "text": [
      "a=76\n",
      "b=31\n",
      "Mod= 14\n"
     ]
    }
   ],
   "source": [
    "a=76\n",
    "b=31\n",
    "Mod=a%b\n",
    "print('a=76')\n",
    "print('b=31')\n",
    "print('Mod=', Mod)"
   ]
  },
  {
   "cell_type": "code",
   "execution_count": 20,
   "id": "31429f3f-5417-4c5a-b462-ef87ef707e99",
   "metadata": {},
   "outputs": [
    {
     "name": "stdout",
     "output_type": "stream",
     "text": [
      "a=4\n",
      "b=4\n",
      "pow(a,b)= 256\n"
     ]
    }
   ],
   "source": [
    "a=4\n",
    "b=4\n",
    "Power=pow(a,b)\n",
    "print('a=4')\n",
    "print('b=4')\n",
    "print('pow(a,b)=', Power)"
   ]
  },
  {
   "cell_type": "code",
   "execution_count": null,
   "id": "93df7f8d-2ba1-49a7-99e3-968da82fc7d3",
   "metadata": {},
   "outputs": [],
   "source": []
  }
 ],
 "metadata": {
  "kernelspec": {
   "display_name": "Python 3 (ipykernel)",
   "language": "python",
   "name": "python3"
  },
  "language_info": {
   "codemirror_mode": {
    "name": "ipython",
    "version": 3
   },
   "file_extension": ".py",
   "mimetype": "text/x-python",
   "name": "python",
   "nbconvert_exporter": "python",
   "pygments_lexer": "ipython3",
   "version": "3.12.7"
  }
 },
 "nbformat": 4,
 "nbformat_minor": 5
}

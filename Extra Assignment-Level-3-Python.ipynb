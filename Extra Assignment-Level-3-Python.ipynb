{
 "cells": [
  {
   "cell_type": "code",
   "execution_count": 1,
   "id": "376e182c-618b-4c5e-99a5-17bb6aa488d5",
   "metadata": {},
   "outputs": [
    {
     "name": "stdin",
     "output_type": "stream",
     "text": [
      "Value 10\n"
     ]
    },
    {
     "name": "stdout",
     "output_type": "stream",
     "text": [
      "Correct\n"
     ]
    }
   ],
   "source": [
    "Value=int(input('Value'))\n",
    "if(Value==10):\n",
    "    print(\"Correct\")"
   ]
  },
  {
   "cell_type": "code",
   "execution_count": 6,
   "id": "66929bff-09b3-41a2-b8c3-40a7381f4e16",
   "metadata": {},
   "outputs": [
    {
     "name": "stdin",
     "output_type": "stream",
     "text": [
      "Enter the Password HOPE@123\n"
     ]
    },
    {
     "name": "stdout",
     "output_type": "stream",
     "text": [
      "Your password is correct\n"
     ]
    }
   ],
   "source": [
    "Password=(input('Enter the Password'))\n",
    "if(Password=='HOPE@123'):\n",
    "    print(\"Your password is correct\")"
   ]
  },
  {
   "cell_type": "code",
   "execution_count": 8,
   "id": "f82461ee-c20e-42c7-a226-7b1a04279e91",
   "metadata": {},
   "outputs": [
    {
     "name": "stdin",
     "output_type": "stream",
     "text": [
      "AGE: 20\n"
     ]
    },
    {
     "name": "stdout",
     "output_type": "stream",
     "text": [
      "Adult\n"
     ]
    }
   ],
   "source": [
    "age=int(input('AGE:'))\n",
    "if(age==20):\n",
    "    print(\"Adult\")"
   ]
  },
  {
   "cell_type": "code",
   "execution_count": 10,
   "id": "43526ed4-aced-49be-ae9b-0faf4fe60eeb",
   "metadata": {},
   "outputs": [
    {
     "name": "stdin",
     "output_type": "stream",
     "text": [
      "NO: -5\n"
     ]
    },
    {
     "name": "stdout",
     "output_type": "stream",
     "text": [
      "NO is negative\n"
     ]
    }
   ],
   "source": [
    "Number=float(input('NO:'))\n",
    "if(Number<0):\n",
    "    print(\"NO is negative\")\n",
    "elif (Number > 0):\n",
    "    print (\"NO is positive\")"
   ]
  },
  {
   "cell_type": "code",
   "execution_count": 13,
   "id": "87849ae2-3a67-4a3f-8b8a-ddc4ceb5d087",
   "metadata": {},
   "outputs": [
    {
     "name": "stdin",
     "output_type": "stream",
     "text": [
      "NO: 6\n"
     ]
    },
    {
     "name": "stdout",
     "output_type": "stream",
     "text": [
      "NO is not divisible by 5\n"
     ]
    }
   ],
   "source": [
    "Number=float(input('NO:'))\n",
    "if(Number%5)==0:\n",
    "    print(\"NO is divisible by 5\")\n",
    "elif (Number%5)==1:\n",
    "    print (\"NO is not divisible by 5\")"
   ]
  },
  {
   "cell_type": "code",
   "execution_count": null,
   "id": "00ccfde4-e1c0-4995-94e1-5534cea2efd7",
   "metadata": {},
   "outputs": [],
   "source": []
  }
 ],
 "metadata": {
  "kernelspec": {
   "display_name": "Python 3 (ipykernel)",
   "language": "python",
   "name": "python3"
  },
  "language_info": {
   "codemirror_mode": {
    "name": "ipython",
    "version": 3
   },
   "file_extension": ".py",
   "mimetype": "text/x-python",
   "name": "python",
   "nbconvert_exporter": "python",
   "pygments_lexer": "ipython3",
   "version": "3.12.7"
  }
 },
 "nbformat": 4,
 "nbformat_minor": 5
}

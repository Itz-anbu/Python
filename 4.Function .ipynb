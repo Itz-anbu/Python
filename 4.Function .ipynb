{
 "cells": [
  {
   "cell_type": "markdown",
   "id": "d34e5c8d-fb9b-43ef-96b3-46e023c5cc8b",
   "metadata": {},
   "source": [
    "#if Syntax\n",
    "if():\n",
    "    print()"
   ]
  },
  {
   "cell_type": "code",
   "execution_count": 11,
   "id": "1869481e-167a-4a40-883b-8d24a1853187",
   "metadata": {},
   "outputs": [
    {
     "name": "stdin",
     "output_type": "stream",
     "text": [
      "Enter the age- 19\n"
     ]
    }
   ],
   "source": [
    "age=int(input('Enter the age-'))"
   ]
  },
  {
   "cell_type": "code",
   "execution_count": 12,
   "id": "b258f604-f7c2-41b7-96c1-b57f46d3fe76",
   "metadata": {},
   "outputs": [],
   "source": [
    "if(age==18):\n",
    "    print(\"Adult\")\n",
    "    "
   ]
  },
  {
   "cell_type": "code",
   "execution_count": 13,
   "id": "af68511e-2c2a-49fc-b89b-56d85accd8d6",
   "metadata": {},
   "outputs": [],
   "source": [
    "if(age==18):\n",
    "    print(\"Adult\")"
   ]
  },
  {
   "cell_type": "code",
   "execution_count": 7,
   "id": "6d19168b-672b-4760-aa81-7337c72babfa",
   "metadata": {},
   "outputs": [
    {
     "name": "stdin",
     "output_type": "stream",
     "text": [
      "Enter the age- 18\n"
     ]
    },
    {
     "name": "stdout",
     "output_type": "stream",
     "text": [
      "Adult\n"
     ]
    }
   ],
   "source": [
    "age=int(input('Enter the age-'))\n",
    "if(age==18):\n",
    "    print(\"Adult\")"
   ]
  },
  {
   "cell_type": "code",
   "execution_count": 9,
   "id": "933fabbf-af74-47bc-8012-d80040bd2b12",
   "metadata": {},
   "outputs": [
    {
     "name": "stdout",
     "output_type": "stream",
     "text": [
      "Adult\n"
     ]
    },
    {
     "name": "stdin",
     "output_type": "stream",
     "text": [
      "Enter the age- 18\n"
     ]
    },
    {
     "name": "stdout",
     "output_type": "stream",
     "text": [
      "this is wrong as IF condition is not applied\n"
     ]
    }
   ],
   "source": [
    "if(age==18):\n",
    "    print(\"Adult\")\n",
    "age=int(input('Enter the age-'))\n",
    "print(\"this is wrong as IF condition is not applied\")"
   ]
  },
  {
   "cell_type": "markdown",
   "id": "ac856d17-02c7-481e-8c82-505854c22148",
   "metadata": {},
   "source": [
    "#if-else syntax\n",
    "if(condition):\n",
    "    print('')\n",
    "else:\n",
    "    print('')\n"
   ]
  },
  {
   "cell_type": "code",
   "execution_count": 16,
   "id": "56e434ec-9294-4712-b863-99b01748c860",
   "metadata": {},
   "outputs": [
    {
     "name": "stdout",
     "output_type": "stream",
     "text": [
      "CHILDREN\n"
     ]
    }
   ],
   "source": [
    "if(age<18):\n",
    "    print('CHILDREN')\n",
    "else:\n",
    "    print(\"ADULT\")"
   ]
  },
  {
   "cell_type": "code",
   "execution_count": 15,
   "id": "43948a6e-b412-440b-bb2a-a054eb325fbf",
   "metadata": {},
   "outputs": [],
   "source": [
    "age=14\n"
   ]
  },
  {
   "cell_type": "markdown",
   "id": "c509d757-ea52-40a6-adff-c63b6743c4a6",
   "metadata": {},
   "source": [
    "#if-elif syntax\n",
    "if(condition):\n",
    "    print('')\n",
    "elif():\n",
    "    print('')\n",
    "else:\n",
    "    print('')"
   ]
  },
  {
   "cell_type": "markdown",
   "id": "3da83321-454b-4cf2-becb-68b2110e137e",
   "metadata": {},
   "source": [
    "Example condition:\n",
    "age<18 - Children\n",
    "age<35 - Adult\n",
    "age<59 - Citizen\n",
    "age>59 - Senior Citizen"
   ]
  },
  {
   "cell_type": "code",
   "execution_count": 21,
   "id": "22f10f3a-7b50-4b22-a252-bb75369356ec",
   "metadata": {},
   "outputs": [
    {
     "name": "stdin",
     "output_type": "stream",
     "text": [
      "Enter: 45\n"
     ]
    },
    {
     "name": "stdout",
     "output_type": "stream",
     "text": [
      "Citizen\n"
     ]
    }
   ],
   "source": [
    "age=int(input('Enter:'))\n",
    "if(age<18):\n",
    "    print('Children')\n",
    "elif(age<35):\n",
    "    print(\"Adult\")\n",
    "elif(age<59):\n",
    "    print('Citizen')\n",
    "else:\n",
    "    print('senior citizen')"
   ]
  },
  {
   "cell_type": "code",
   "execution_count": 7,
   "id": "da3aa804-fc72-4962-a7ba-63adbcc4a780",
   "metadata": {},
   "outputs": [],
   "source": [
    "lists = [10,20,30,40,50]"
   ]
  },
  {
   "cell_type": "code",
   "execution_count": 8,
   "id": "299efd61-eed9-41bc-b3fe-3f0e8b5eb883",
   "metadata": {},
   "outputs": [
    {
     "name": "stdout",
     "output_type": "stream",
     "text": [
      "Children\n",
      "Adult\n",
      "Adult\n",
      "Citizen\n",
      "Citizen\n"
     ]
    }
   ],
   "source": [
    "for age in lists:\n",
    "    if(age<18):\n",
    "        print('Children')\n",
    "    elif(age<35):\n",
    "        print(\"Adult\")\n",
    "    elif(age<59):\n",
    "        print('Citizen')\n",
    "    else:\n",
    "        print('senior citizen')\n",
    "  \n",
    "    "
   ]
  },
  {
   "cell_type": "code",
   "execution_count": 13,
   "id": "b37200ec-47a9-4883-be55-19be4c022b29",
   "metadata": {},
   "outputs": [
    {
     "name": "stdout",
     "output_type": "stream",
     "text": [
      "[10, 20, 30, 40, 50] Children\n",
      "Adult\n",
      "Adult\n",
      "Citizen\n",
      "Citizen\n"
     ]
    }
   ],
   "source": [
    "for age in lists:\n",
    "    if(age<18):\n",
    "        print(lists,'Children')\n",
    "    elif(age<35):\n",
    "        print(\"Adult\")\n",
    "    elif(age<59):\n",
    "        print('Citizen')\n",
    "    else:\n",
    "        print('senior citizen')"
   ]
  },
  {
   "cell_type": "code",
   "execution_count": 17,
   "id": "b74b2917-7708-4420-9f0b-68509a0fded6",
   "metadata": {},
   "outputs": [
    {
     "name": "stdin",
     "output_type": "stream",
     "text": [
      "Enter 4\n"
     ]
    },
    {
     "name": "stdout",
     "output_type": "stream",
     "text": [
      "EVEN\n"
     ]
    }
   ],
   "source": [
    "num=int(input('Enter'))\n",
    "if((num%2)==0):\n",
    "    print('EVEN')"
   ]
  },
  {
   "cell_type": "code",
   "execution_count": 18,
   "id": "831a24c7-3ddb-4e26-8e59-2050a7996b67",
   "metadata": {},
   "outputs": [
    {
     "name": "stdin",
     "output_type": "stream",
     "text": [
      "Enter 5\n"
     ]
    },
    {
     "name": "stdout",
     "output_type": "stream",
     "text": [
      "ODD\n"
     ]
    }
   ],
   "source": [
    "num=int(input('Enter'))\n",
    "if((num%2)==0):\n",
    "    print('EVEN')\n",
    "else:\n",
    "    print('ODD')"
   ]
  },
  {
   "cell_type": "code",
   "execution_count": 37,
   "id": "d480cfbf-826d-4c26-9d02-bdb651b1e65d",
   "metadata": {},
   "outputs": [],
   "source": [
    "def AgeCategory():\n",
    "    if(age<18):\n",
    "        print('Children')\n",
    "    elif(age<35):\n",
    "        print(\"Adult\")\n",
    "    elif(age<59):\n",
    "        print('Citizen')\n",
    "    else:\n",
    "        print('senior citizen')"
   ]
  },
  {
   "cell_type": "code",
   "execution_count": 38,
   "id": "a26e11e2-2313-4470-83d0-10acd9f98323",
   "metadata": {},
   "outputs": [
    {
     "name": "stdin",
     "output_type": "stream",
     "text": [
      "Enter 20\n"
     ]
    }
   ],
   "source": [
    "age=int(input('Enter'))"
   ]
  },
  {
   "cell_type": "code",
   "execution_count": 39,
   "id": "77babaeb-ef8d-4391-a0e0-a273c60b083a",
   "metadata": {},
   "outputs": [
    {
     "name": "stdout",
     "output_type": "stream",
     "text": [
      "Adult\n"
     ]
    }
   ],
   "source": [
    "AgeCategory()"
   ]
  },
  {
   "cell_type": "code",
   "execution_count": 41,
   "id": "14ae970a-7c90-42fb-963c-756a093b3bbc",
   "metadata": {},
   "outputs": [
    {
     "name": "stdin",
     "output_type": "stream",
     "text": [
      "Enter 10,2,30,40\n"
     ]
    },
    {
     "ename": "ValueError",
     "evalue": "invalid literal for int() with base 10: '10,2,30,40'",
     "output_type": "error",
     "traceback": [
      "\u001b[1;31m---------------------------------------------------------------------------\u001b[0m",
      "\u001b[1;31mValueError\u001b[0m                                Traceback (most recent call last)",
      "Cell \u001b[1;32mIn[41], line 1\u001b[0m\n\u001b[1;32m----> 1\u001b[0m \u001b[38;5;28mlist\u001b[39m\u001b[38;5;241m=\u001b[39m\u001b[38;5;28mint\u001b[39m(\u001b[38;5;28minput\u001b[39m(\u001b[38;5;124m'\u001b[39m\u001b[38;5;124mEnter\u001b[39m\u001b[38;5;124m'\u001b[39m))\n",
      "\u001b[1;31mValueError\u001b[0m: invalid literal for int() with base 10: '10,2,30,40'"
     ]
    }
   ],
   "source": [
    "list=int(input('Enter'))"
   ]
  },
  {
   "cell_type": "code",
   "execution_count": null,
   "id": "885e34b8-e7c2-4cfd-b86d-f52c44154d0a",
   "metadata": {},
   "outputs": [],
   "source": []
  }
 ],
 "metadata": {
  "kernelspec": {
   "display_name": "Python 3 (ipykernel)",
   "language": "python",
   "name": "python3"
  },
  "language_info": {
   "codemirror_mode": {
    "name": "ipython",
    "version": 3
   },
   "file_extension": ".py",
   "mimetype": "text/x-python",
   "name": "python",
   "nbconvert_exporter": "python",
   "pygments_lexer": "ipython3",
   "version": "3.12.7"
  }
 },
 "nbformat": 4,
 "nbformat_minor": 5
}

{
 "cells": [
  {
   "cell_type": "code",
   "execution_count": 7,
   "id": "17123605-e25d-4732-9601-0ae647b88fea",
   "metadata": {},
   "outputs": [],
   "source": [
    "def subfields():\n",
    "    Subfield =['Subfields in AI are:', \"Machine Learning\", \"Neural Networks\", \"Vision\", \"Robotics\", \"Speech Processing\", \"Natural Language Processing\"]\n",
    "    print(*Subfield, sep = '\\n')"
   ]
  },
  {
   "cell_type": "code",
   "execution_count": 8,
   "id": "716f0483-2678-45e6-98bd-d986ba18db3b",
   "metadata": {},
   "outputs": [
    {
     "name": "stdout",
     "output_type": "stream",
     "text": [
      "Subfields in AI are:\n",
      "Machine Learning\n",
      "Neural Networks\n",
      "Vision\n",
      "Robotics\n",
      "Speech Processing\n",
      "Natural Language Processing\n"
     ]
    }
   ],
   "source": [
    "subfields()"
   ]
  },
  {
   "cell_type": "code",
   "execution_count": 1,
   "id": "bc33b3c9-858d-4bb4-876e-4e761b34ea01",
   "metadata": {},
   "outputs": [],
   "source": [
    "def oddeven():\n",
    "    Number = int(input(\"Enter:\"))\n",
    "    if Number%2==0:\n",
    "        print(Number, 'is Even Number')\n",
    "    else:\n",
    "        print (Number, 'is Odd Number')"
   ]
  },
  {
   "cell_type": "code",
   "execution_count": 4,
   "id": "138c4f91-4f0c-4d41-96b9-453bb8bfbff6",
   "metadata": {},
   "outputs": [
    {
     "name": "stdin",
     "output_type": "stream",
     "text": [
      "Enter: 52452\n"
     ]
    },
    {
     "name": "stdout",
     "output_type": "stream",
     "text": [
      "52452 is Even Number\n"
     ]
    }
   ],
   "source": [
    "oddeven()"
   ]
  },
  {
   "cell_type": "code",
   "execution_count": 8,
   "id": "dc0bebc4-f3d9-417c-8f86-97d73c8bbcc7",
   "metadata": {},
   "outputs": [],
   "source": [
    "def marr_eligible():\n",
    "    Gender=input('Your Gender:')\n",
    "    Age = int(input ('Your age:'))\n",
    "    if Gender == 'Male' and Age>20:\n",
    "        print('ELIGIBLE')\n",
    "    elif Gender == 'Female' and Age>18:\n",
    "         print('ELIGIBLE')\n",
    "    else:\n",
    "        print ('NOT ELIGIBLE')\n",
    "    "
   ]
  },
  {
   "cell_type": "code",
   "execution_count": 12,
   "id": "410df29f-e2cb-421d-9d04-66811f689d5b",
   "metadata": {},
   "outputs": [
    {
     "name": "stdin",
     "output_type": "stream",
     "text": [
      "Your Gender: Male\n",
      "Your age: 20\n"
     ]
    },
    {
     "name": "stdout",
     "output_type": "stream",
     "text": [
      "NOT ELIGIBLE\n"
     ]
    }
   ],
   "source": [
    "marr_eligible()"
   ]
  },
  {
   "cell_type": "code",
   "execution_count": 16,
   "id": "1a4fd259-126b-4672-86c5-520a102f14c5",
   "metadata": {},
   "outputs": [],
   "source": [
    "def Percentage(a,b,c,d,e):\n",
    "    print('Subject1=', a)\n",
    "    print('Subject2=', b)\n",
    "    print('Subject3=', c)\n",
    "    print('Subject4=', d)\n",
    "    print('Subject5=', e)\n",
    "    Total= a+b+c+d+e\n",
    "    Percentage = Total/5\n",
    "    print('Total=', Total)\n",
    "    print('Percentage =', Percentage)"
   ]
  },
  {
   "cell_type": "code",
   "execution_count": 18,
   "id": "9c80abba-fc15-4685-a7bc-213a33b65683",
   "metadata": {},
   "outputs": [
    {
     "name": "stdout",
     "output_type": "stream",
     "text": [
      "Subject1= 98\n",
      "Subject2= 87\n",
      "Subject3= 95\n",
      "Subject4= 95\n",
      "Subject5= 93\n",
      "Total= 468\n",
      "Percentage = 93.6\n"
     ]
    }
   ],
   "source": [
    "Percentage(98,87,95,95,93)"
   ]
  },
  {
   "cell_type": "code",
   "execution_count": 24,
   "id": "0ff6858a-bf2f-4918-a3b2-0c9ab592d12d",
   "metadata": {},
   "outputs": [],
   "source": [
    "def Triangle(H,B,A,C):\n",
    "    print(\"Height of triangle =\", H)\n",
    "    print(\"Base of triangle =\", B)\n",
    "    print(\"Area Formula = (Height*Base)/2)\")\n",
    "    print (\"Area of the given triangle =\", (H*B)/2)\n",
    "    print(\"Side of a triangle=\", A)\n",
    "    print(\"Other side of a triangle =\", C)\n",
    "    print (\"Perimeter Formula = Base+Side1+Side2\")\n",
    "    print('Perimeter of the given triangle=', A+B+C)"
   ]
  },
  {
   "cell_type": "code",
   "execution_count": 25,
   "id": "92d900e7-deeb-419a-bc97-e440c070d938",
   "metadata": {},
   "outputs": [
    {
     "name": "stdout",
     "output_type": "stream",
     "text": [
      "Height of triangle = 32\n",
      "Base of triangle = 34\n",
      "Area Formula = (Height*Base)/2)\n",
      "Area of the given triangle = 544.0\n",
      "Side of a triangle= 34\n",
      "Other side of a triangle = 34\n",
      "Perimeter Formula = Base+Side1+Side2\n",
      "Perimeter of the given triangle= 102\n"
     ]
    }
   ],
   "source": [
    "Triangle(32,34,34,34)"
   ]
  },
  {
   "cell_type": "code",
   "execution_count": null,
   "id": "b8028c01-142e-422f-b19c-a1fd1ee26806",
   "metadata": {},
   "outputs": [],
   "source": []
  },
  {
   "cell_type": "code",
   "execution_count": null,
   "id": "0445755a-cf93-40fa-ae88-34e6e23984e9",
   "metadata": {},
   "outputs": [],
   "source": []
  }
 ],
 "metadata": {
  "kernelspec": {
   "display_name": "Python 3 (ipykernel)",
   "language": "python",
   "name": "python3"
  },
  "language_info": {
   "codemirror_mode": {
    "name": "ipython",
    "version": 3
   },
   "file_extension": ".py",
   "mimetype": "text/x-python",
   "name": "python",
   "nbconvert_exporter": "python",
   "pygments_lexer": "ipython3",
   "version": "3.12.7"
  }
 },
 "nbformat": 4,
 "nbformat_minor": 5
}

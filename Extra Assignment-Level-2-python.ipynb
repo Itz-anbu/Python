{
 "cells": [
  {
   "cell_type": "code",
   "execution_count": 4,
   "id": "e3e8d844-3455-414f-b370-80d8463e26ff",
   "metadata": {},
   "outputs": [
    {
     "name": "stdout",
     "output_type": "stream",
     "text": [
      "0\n",
      "1\n",
      "2\n",
      "3\n",
      "4\n",
      "5\n",
      "6\n",
      "7\n",
      "8\n",
      "9\n",
      "10\n",
      "11\n",
      "12\n",
      "13\n",
      "14\n",
      "15\n",
      "16\n",
      "17\n",
      "18\n",
      "19\n"
     ]
    }
   ],
   "source": [
    "for num in range(0,20):\n",
    " print(num)"
   ]
  },
  {
   "cell_type": "code",
   "execution_count": 5,
   "id": "fe06f057-c605-4a6e-8045-df80d58fc6e4",
   "metadata": {},
   "outputs": [
    {
     "name": "stdout",
     "output_type": "stream",
     "text": [
      "0\n",
      "1\n",
      "2\n",
      "3\n",
      "4\n",
      "5\n",
      "6\n",
      "7\n",
      "8\n",
      "9\n",
      "10\n",
      "11\n",
      "12\n",
      "13\n",
      "14\n",
      "15\n",
      "16\n",
      "17\n",
      "18\n",
      "19\n"
     ]
    }
   ],
   "source": [
    "for num in range(20):\n",
    " print(num)"
   ]
  },
  {
   "cell_type": "code",
   "execution_count": 6,
   "id": "d7aab209-c1b6-41cc-af12-8088338d4b13",
   "metadata": {},
   "outputs": [
    {
     "name": "stdout",
     "output_type": "stream",
     "text": [
      "0\n",
      "1\n",
      "2\n",
      "3\n",
      "4\n"
     ]
    }
   ],
   "source": [
    "for num in range(5):\n",
    " print(num)"
   ]
  },
  {
   "cell_type": "code",
   "execution_count": 8,
   "id": "09cd011c-c57c-455a-bd79-a549205f8ead",
   "metadata": {},
   "outputs": [
    {
     "name": "stdout",
     "output_type": "stream",
     "text": [
      "[10, 11, 12, 13, 14, 15, 16, 17, 18, 19]\n"
     ]
    }
   ],
   "source": [
    "numbers = list(range(10, 20))\n",
    "print(numbers)\n"
   ]
  },
  {
   "cell_type": "code",
   "execution_count": 28,
   "id": "afacecec-b541-44a9-ac66-b55430e35815",
   "metadata": {},
   "outputs": [
    {
     "name": "stdout",
     "output_type": "stream",
     "text": [
      "[10, 11, 12, 13, 14, 15, 16, 17, 18, 19]"
     ]
    }
   ],
   "source": [
    "numbers = list(range(10, 20))\n",
    "print(numbers,end='')\n"
   ]
  },
  {
   "cell_type": "code",
   "execution_count": 25,
   "id": "a9b24181-ce6c-4d7c-b360-325671a0e3bb",
   "metadata": {},
   "outputs": [
    {
     "name": "stdout",
     "output_type": "stream",
     "text": [
      "[10, 20, 14, 55, 43, 87, 76]\n",
      "Number of items in list2 = 7\n"
     ]
    }
   ],
   "source": [
    "List2=[10,20,14,55,43,87,76]\n",
    "print(List2)\n",
    "print(\"Number of items in list2 =\", len(List2))"
   ]
  },
  {
   "cell_type": "code",
   "execution_count": 14,
   "id": "aad14b28-d61b-4c84-948f-a2ed72f5421e",
   "metadata": {},
   "outputs": [
    {
     "name": "stdout",
     "output_type": "stream",
     "text": [
      "10\n",
      "20\n",
      "30\n"
     ]
    }
   ],
   "source": [
    "for elem in [10,20,30]:\n",
    "    print (elem)"
   ]
  },
  {
   "cell_type": "code",
   "execution_count": 31,
   "id": "f754b46d-a256-42d8-bef4-e6033501c935",
   "metadata": {},
   "outputs": [
    {
     "name": "stdout",
     "output_type": "stream",
     "text": [
      "10 20 30 "
     ]
    }
   ],
   "source": [
    "for elem in [10,20,30]:\n",
    "    print (elem,end=' ')"
   ]
  },
  {
   "cell_type": "code",
   "execution_count": 13,
   "id": "1a9c16b2-c2c0-434b-890f-0552d0a7e694",
   "metadata": {},
   "outputs": [
    {
     "name": "stdout",
     "output_type": "stream",
     "text": [
      "Artificial Intelligence\n",
      "A\n",
      "r\n",
      "t\n",
      "i\n",
      "f\n",
      "i\n",
      "c\n",
      "i\n",
      "a\n",
      "l\n",
      " \n",
      "I\n",
      "n\n",
      "t\n",
      "e\n",
      "l\n",
      "l\n",
      "i\n",
      "g\n",
      "e\n",
      "n\n",
      "c\n",
      "e\n"
     ]
    }
   ],
   "source": [
    "word = \"Artificial Intelligence\"\n",
    "print_word_both_ways(word)"
   ]
  },
  {
   "cell_type": "code",
   "execution_count": 15,
   "id": "390826d1-4432-47f5-bc62-05ead92d0c3b",
   "metadata": {},
   "outputs": [
    {
     "name": "stdout",
     "output_type": "stream",
     "text": [
      "-your name\n",
      "-Your Age-\n",
      "-Your Profession-\n"
     ]
    }
   ],
   "source": [
    "print ('-your name')\n",
    "print ('-Your Age-')\n",
    "print ('-Your Profession-')"
   ]
  },
  {
   "cell_type": "code",
   "execution_count": 16,
   "id": "e0901c0c-3b16-4d7b-b3f1-5f000792295f",
   "metadata": {},
   "outputs": [
    {
     "name": "stdout",
     "output_type": "stream",
     "text": [
      "(1, 'Welcome', 2, 'Hope')\n"
     ]
    }
   ],
   "source": [
    "tup = (1, 'Welcome', 2, 'Hope')\n",
    "print (tup)"
   ]
  },
  {
   "cell_type": "code",
   "execution_count": 17,
   "id": "3dea583f-e3f2-4b91-a3f9-023ec051b45b",
   "metadata": {},
   "outputs": [
    {
     "name": "stdout",
     "output_type": "stream",
     "text": [
      "((0, 1, 2, 3), ('python', 'HOPE'))\n"
     ]
    }
   ],
   "source": [
    "tup1= ((0, 1, 2, 3), ('python', 'HOPE'))\n",
    "print (tup1)"
   ]
  },
  {
   "cell_type": "code",
   "execution_count": 18,
   "id": "68b30f45-b753-46f7-9cf4-1fedc75cee2b",
   "metadata": {},
   "outputs": [
    {
     "name": "stdout",
     "output_type": "stream",
     "text": [
      "[20, 10, 16, 19, 25, 1, 276, 188]\n",
      "19 is odd\n",
      "25 is odd\n",
      "1 is odd\n"
     ]
    }
   ],
   "source": [
    "list = [20,10,16,19,25,1,276,188]\n",
    "print (list)\n",
    "for num in list:\n",
    "    if ((num%2)==1):\n",
    "        print ( num , \"is odd\")\n",
    "    "
   ]
  },
  {
   "cell_type": "code",
   "execution_count": 19,
   "id": "0485d39c-118d-426a-985f-29f3e48078bc",
   "metadata": {},
   "outputs": [
    {
     "name": "stdout",
     "output_type": "stream",
     "text": [
      "[20, 10, 16, 19, 25, 1, 276, 188]\n",
      "20 is even\n",
      "10 is even\n",
      "16 is even\n",
      "276 is even\n",
      "188 is even\n"
     ]
    }
   ],
   "source": [
    "list = [20,10,16,19,25,1,276,188]\n",
    "print (list)\n",
    "for num in list:\n",
    "    if ((num%2)==0):\n",
    "        print ( num , \"is even\")"
   ]
  },
  {
   "cell_type": "code",
   "execution_count": null,
   "id": "d7f76c1a-0973-497d-9779-c90fd6f6e3e0",
   "metadata": {},
   "outputs": [],
   "source": []
  }
 ],
 "metadata": {
  "kernelspec": {
   "display_name": "Python 3 (ipykernel)",
   "language": "python",
   "name": "python3"
  },
  "language_info": {
   "codemirror_mode": {
    "name": "ipython",
    "version": 3
   },
   "file_extension": ".py",
   "mimetype": "text/x-python",
   "name": "python",
   "nbconvert_exporter": "python",
   "pygments_lexer": "ipython3",
   "version": "3.12.7"
  }
 },
 "nbformat": 4,
 "nbformat_minor": 5
}

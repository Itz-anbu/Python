{
 "cells": [
  {
   "cell_type": "code",
   "execution_count": 4,
   "id": "fb6b42f5-a0b7-4211-b5e9-c9183fe9e6ba",
   "metadata": {},
   "outputs": [],
   "source": [
    "from Assignment2 import Multiple_function"
   ]
  },
  {
   "cell_type": "code",
   "execution_count": 8,
   "id": "06740c5c-d379-4850-8bae-52dad72c3fa0",
   "metadata": {},
   "outputs": [
    {
     "name": "stdout",
     "output_type": "stream",
     "text": [
      "Subfields in AI are:\n",
      "Machine Learning\n",
      "Neural Networks\n",
      "Vision\n",
      "Robotics\n",
      "Speech Processing\n",
      "Natural Language Processing\n"
     ]
    }
   ],
   "source": [
    "Multiple_function.subfields()"
   ]
  },
  {
   "cell_type": "code",
   "execution_count": 9,
   "id": "f3c6716e-e9d2-4b82-938a-5457210a694b",
   "metadata": {},
   "outputs": [
    {
     "name": "stdin",
     "output_type": "stream",
     "text": [
      "Enter: 52452\n"
     ]
    },
    {
     "name": "stdout",
     "output_type": "stream",
     "text": [
      "52452 is Even Number\n"
     ]
    }
   ],
   "source": [
    "Multiple_function.oddeven()"
   ]
  },
  {
   "cell_type": "code",
   "execution_count": 10,
   "id": "9a5685f7-c5c8-4795-affc-2f6dd354a937",
   "metadata": {},
   "outputs": [
    {
     "name": "stdin",
     "output_type": "stream",
     "text": [
      "Your Gender: Female\n",
      "Your age: 15\n"
     ]
    },
    {
     "name": "stdout",
     "output_type": "stream",
     "text": [
      "NOT ELIGIBLE\n"
     ]
    }
   ],
   "source": [
    "Multiple_function. marr_eligible()"
   ]
  },
  {
   "cell_type": "code",
   "execution_count": 11,
   "id": "75347d14-c142-43e2-82b5-43285da0a6c7",
   "metadata": {},
   "outputs": [
    {
     "name": "stdout",
     "output_type": "stream",
     "text": [
      "Subject1= 98\n",
      "Subject2= 87\n",
      "Subject3= 95\n",
      "Subject4= 95\n",
      "Subject5= 93\n",
      "Total= 468\n",
      "Percentage = 93.6\n"
     ]
    }
   ],
   "source": [
    "Multiple_function.Percentage(98,87,95,95,93)"
   ]
  },
  {
   "cell_type": "code",
   "execution_count": 12,
   "id": "51ad3b95-2705-435f-a8d3-3b29ddb5105f",
   "metadata": {},
   "outputs": [
    {
     "name": "stdout",
     "output_type": "stream",
     "text": [
      "Height of triangle = 32\n",
      "Base of triangle = 34\n",
      "Area Formula = (Height*Base)/2)\n",
      "Area of the given triangle = 544.0\n",
      "Side of a triangle= 34\n",
      "Other side of a triangle = 34\n",
      "Perimeter Formula = Base+Side1+Side2\n",
      "Perimeter of the given triangle= 102\n"
     ]
    }
   ],
   "source": [
    "Multiple_function.Triangle(32,34,34,34)"
   ]
  },
  {
   "cell_type": "code",
   "execution_count": null,
   "id": "7b253c28-6e8e-431d-8f57-f7567e0421c1",
   "metadata": {},
   "outputs": [],
   "source": []
  }
 ],
 "metadata": {
  "kernelspec": {
   "display_name": "Python 3 (ipykernel)",
   "language": "python",
   "name": "python3"
  },
  "language_info": {
   "codemirror_mode": {
    "name": "ipython",
    "version": 3
   },
   "file_extension": ".py",
   "mimetype": "text/x-python",
   "name": "python",
   "nbconvert_exporter": "python",
   "pygments_lexer": "ipython3",
   "version": "3.12.7"
  }
 },
 "nbformat": 4,
 "nbformat_minor": 5
}
